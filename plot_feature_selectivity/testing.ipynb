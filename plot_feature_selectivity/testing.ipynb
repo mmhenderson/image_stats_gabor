{
 "cells": [
  {
   "cell_type": "code",
   "execution_count": 2,
   "id": "9b2f6867-27cd-4d12-951c-871b4b894603",
   "metadata": {},
   "outputs": [],
   "source": [
    "import os, sys\n",
    "\n",
    "# codepath = '/user_data/mmhender/image_stats_gabor/code/'\n",
    "# sys.path.insert(0,codepath)\n",
    "\n",
    "import numpy as np\n",
    "import matplotlib.pyplot as plt\n",
    "from matplotlib import cm\n",
    "import scipy.stats\n",
    "import cmocean\n",
    "\n",
    "from plotting import plot_utils, summary_plots, load_fits\n",
    "from utils import roi_utils, default_paths, prf_utils\n",
    "from feature_extraction import gabor_feature_extractor"
   ]
  },
  {
   "cell_type": "code",
   "execution_count": 7,
   "id": "606ce8dd-bd70-4b87-b3fb-721335d31377",
   "metadata": {},
   "outputs": [
    {
     "data": {
      "text/plain": [
       "<module 'model_fitting.initialize_fitting' from '/user_data/mmhender/modfit/code/model_fitting/initialize_fitting.py'>"
      ]
     },
     "execution_count": 7,
     "metadata": {},
     "output_type": "execute_result"
    }
   ],
   "source": [
    "from model_fitting import initialize_fitting\n",
    "initialize_fitting"
   ]
  },
  {
   "cell_type": "code",
   "execution_count": 20,
   "id": "0016745f-130a-4856-a2de-6392d224504c",
   "metadata": {},
   "outputs": [
    {
     "name": "stdout",
     "output_type": "stream",
     "text": [
      "loading labels from folders at /user_data/mmhender/nsd/labels/S1_within_prf_grid5 (will be slow...)\n",
      "['face-building', 'animate-inanimate', 'small-large', 'indoor-outdoor']\n",
      "num nans each column (out of 10000 trials):\n",
      "[8960 3829 6006  785]\n"
     ]
    }
   ],
   "source": [
    "labels_all, discrim_type_list, unique_labs_each = \\\n",
    "    initialize_fitting.load_highlevel_labels_each_prf(1,5,np.arange(10000),models=np.arange(1456),debug=False)"
   ]
  },
  {
   "cell_type": "code",
   "execution_count": 22,
   "id": "2a1a7f31-e7a1-43d3-874a-8642c6a0d0ff",
   "metadata": {},
   "outputs": [
    {
     "data": {
      "text/plain": [
       "array([0.5985, 0.5282, 0.4072, 0.0785])"
      ]
     },
     "execution_count": 22,
     "metadata": {},
     "output_type": "execute_result"
    }
   ],
   "source": [
    "np.mean(np.isnan(labels_all[:,:,1400]), axis=0)"
   ]
  },
  {
   "cell_type": "code",
   "execution_count": 15,
   "id": "a8beb6c1-1fec-4c3f-b9fb-75d2e468efc1",
   "metadata": {},
   "outputs": [
    {
     "data": {
      "text/plain": [
       "array([0.0596, 0.3169, 0.2174, 0.6208])"
      ]
     },
     "execution_count": 15,
     "metadata": {},
     "output_type": "execute_result"
    }
   ],
   "source": [
    "np.mean(labels_all[:,:,0]==1, axis=0)"
   ]
  },
  {
   "cell_type": "code",
   "execution_count": 17,
   "id": "b0380689-b24b-4868-b579-102828f3f48b",
   "metadata": {},
   "outputs": [
    {
     "data": {
      "text/plain": [
       "array([0.0444, 0.3002, 0.182 , 0.3007])"
      ]
     },
     "execution_count": 17,
     "metadata": {},
     "output_type": "execute_result"
    }
   ],
   "source": [
    "np.mean(labels_all[:,:,0]==0, axis=0)"
   ]
  },
  {
   "cell_type": "code",
   "execution_count": 19,
   "id": "76741e20-0dfb-418c-9bb5-a33a96439864",
   "metadata": {},
   "outputs": [
    {
     "data": {
      "text/plain": [
       "[array([0, 1]), array([0, 1]), array([0, 1]), array([0, 1])]"
      ]
     },
     "execution_count": 19,
     "metadata": {},
     "output_type": "execute_result"
    }
   ],
   "source": [
    "unique_labs_each"
   ]
  },
  {
   "cell_type": "code",
   "execution_count": 2,
   "id": "374e8992-b50b-46d9-8cad-147bfd5e959d",
   "metadata": {},
   "outputs": [
    {
     "name": "stdout",
     "output_type": "stream",
     "text": [
      "Initializing coco api...\n",
      "loading annotations into memory...\n",
      "Done (t=0.72s)\n",
      "creating index...\n",
      "index created!\n",
      "loading annotations into memory...\n",
      "Done (t=16.30s)\n",
      "creating index...\n",
      "index created!\n",
      "Initializing coco api...\n",
      "loading annotations into memory...\n",
      "Done (t=0.55s)\n",
      "creating index...\n",
      "index created!\n",
      "loading annotations into memory...\n",
      "Done (t=13.78s)\n",
      "creating index...\n",
      "index created!\n"
     ]
    }
   ],
   "source": [
    "from utils import coco_utils"
   ]
  },
  {
   "cell_type": "code",
   "execution_count": 2,
   "id": "9c8fb7b1-53cb-4b0a-be7c-9636c76e6923",
   "metadata": {},
   "outputs": [],
   "source": [
    "n_sf=4; n_ori=4;\n",
    "_gabor_ext_complex = gabor_feature_extractor.gabor_extractor_multi_scale(n_ori=n_ori, n_sf=n_sf)\n",
    "\n",
    "screen_eccen_deg=8.4\n",
    "sf_cyc_per_stim = _gabor_ext_complex.feature_table['SF: cycles per stim']\n",
    "sf_cyc_per_deg = sf_cyc_per_stim/screen_eccen_deg\n",
    "sf_unique, sf_inds = np.unique(sf_cyc_per_deg, return_inverse=True)\n",
    "\n",
    "ori_deg = _gabor_ext_complex.feature_table['Orientation: degrees']\n",
    "ori_unique, orient_inds = np.unique(ori_deg, return_inverse=True)"
   ]
  },
  {
   "cell_type": "code",
   "execution_count": 3,
   "id": "d37635bf-3b30-49b4-80e5-af25fe4e2dd4",
   "metadata": {},
   "outputs": [
    {
     "data": {
      "text/plain": [
       "array([  0.,  45.,  90., 135.])"
      ]
     },
     "execution_count": 3,
     "metadata": {},
     "output_type": "execute_result"
    }
   ],
   "source": [
    "ori_unique"
   ]
  },
  {
   "cell_type": "code",
   "execution_count": 6,
   "id": "889e80ad-7323-493d-9799-de6769c53971",
   "metadata": {},
   "outputs": [
    {
     "data": {
      "text/plain": [
       "array([0.36, 1.03, 2.97, 8.57])"
      ]
     },
     "execution_count": 6,
     "metadata": {},
     "output_type": "execute_result"
    }
   ],
   "source": [
    "sf_unique.round(2)"
   ]
  },
  {
   "cell_type": "code",
   "execution_count": 15,
   "id": "112c56bf-80a5-457e-a9e4-fd0aa631f9a5",
   "metadata": {},
   "outputs": [],
   "source": [
    "import numpy as np\n",
    "\n",
    "n_trn = 20\n",
    "\n",
    "trninds = np.arange(n_trn)\n",
    "\n",
    "n_iters = 10;\n",
    "shuff_inds_trn = np.array([np.random.permutation(n_trn) for xx in range(n_iters)]).T"
   ]
  },
  {
   "cell_type": "code",
   "execution_count": 17,
   "id": "42599e9e-d729-4a6c-9e79-7a7a71833fd2",
   "metadata": {},
   "outputs": [
    {
     "data": {
      "text/plain": [
       "(20, 10)"
      ]
     },
     "execution_count": 17,
     "metadata": {},
     "output_type": "execute_result"
    }
   ],
   "source": [
    "shuff_inds_trn.shape"
   ]
  },
  {
   "cell_type": "code",
   "execution_count": 19,
   "id": "9b080ad2-4ec6-496b-80c8-5bc852668d54",
   "metadata": {},
   "outputs": [
    {
     "data": {
      "text/plain": [
       "array([[14, 11,  1,  2, 12, 11,  3, 13, 13,  0],\n",
       "       [15,  7, 14,  5,  7,  9, 10,  6,  8,  1],\n",
       "       [17, 18,  3, 10, 15, 14, 16, 12,  4, 13],\n",
       "       [16,  5,  6, 13, 19,  7,  4, 16,  3, 16],\n",
       "       [ 0, 14,  8, 17, 18,  3,  7,  3, 11, 17],\n",
       "       [19,  6, 18, 19, 17, 10, 18,  5,  5, 10]])"
      ]
     },
     "execution_count": 19,
     "metadata": {},
     "output_type": "execute_result"
    }
   ],
   "source": [
    "inds_use = np.array([2,10,12,13,14,15])\n",
    "shuff_inds_trn_use = shuff_inds_trn[inds_use,:]\n",
    "shuff_inds_trn_use"
   ]
  },
  {
   "cell_type": "code",
   "execution_count": 21,
   "id": "e8eb7011-1c3a-4ef1-8346-e80863688be6",
   "metadata": {},
   "outputs": [
    {
     "data": {
      "text/plain": [
       "array([4, 2, 5, 1, 0, 3])"
      ]
     },
     "execution_count": 21,
     "metadata": {},
     "output_type": "execute_result"
    }
   ],
   "source": [
    "xx=5\n",
    "un, inds = np.unique(shuff_inds_trn_use[:,xx], return_inverse=True)\n",
    "inds"
   ]
  },
  {
   "cell_type": "code",
   "execution_count": 23,
   "id": "932c7544-df77-4635-b6e7-f70eb4542bc7",
   "metadata": {},
   "outputs": [
    {
     "data": {
      "text/plain": [
       "array([[1, 3, 0, 0, 1, 4, 0, 4, 5, 0],\n",
       "       [2, 2, 4, 1, 0, 2, 3, 2, 3, 1],\n",
       "       [4, 5, 1, 2, 2, 5, 4, 3, 1, 3],\n",
       "       [3, 0, 2, 3, 5, 1, 1, 5, 0, 4],\n",
       "       [0, 4, 3, 4, 4, 0, 2, 0, 4, 5],\n",
       "       [5, 1, 5, 5, 3, 3, 5, 1, 2, 2]])"
      ]
     },
     "execution_count": 23,
     "metadata": {},
     "output_type": "execute_result"
    }
   ],
   "source": [
    "np.array([np.unique(shuff_inds_trn_use[:,xx], return_inverse=True)[1]\\\n",
    "         for xx in range(n_iters)]).T"
   ]
  }
 ],
 "metadata": {
  "kernelspec": {
   "display_name": "Python 3",
   "language": "python",
   "name": "python3"
  },
  "language_info": {
   "codemirror_mode": {
    "name": "ipython",
    "version": 3
   },
   "file_extension": ".py",
   "mimetype": "text/x-python",
   "name": "python",
   "nbconvert_exporter": "python",
   "pygments_lexer": "ipython3",
   "version": "3.7.1"
  }
 },
 "nbformat": 4,
 "nbformat_minor": 5
}

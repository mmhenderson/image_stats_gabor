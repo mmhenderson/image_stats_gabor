{
 "cells": [
  {
   "cell_type": "code",
   "execution_count": 1,
   "id": "02d67f05",
   "metadata": {},
   "outputs": [],
   "source": [
    "import os, sys\n",
    "import numpy as np\n",
    "import matplotlib.pyplot as plt\n",
    "from matplotlib import cm\n",
    "\n",
    "# make sure the 'code' dir is on your path (change this):\n",
    "codepath = '/user_data/mmhender/image_stats_gabor/code/'\n",
    "sys.path.insert(0,codepath)\n",
    "\n",
    "from plotting import plot_utils, load_fits, summary_plots\n",
    "from utils import roi_utils, default_paths"
   ]
  },
  {
   "cell_type": "code",
   "execution_count": 19,
   "id": "9ace6c2d-17a3-43a3-adde-97b3e67d1724",
   "metadata": {},
   "outputs": [
    {
     "data": {
      "text/plain": [
       "dict_keys(['residuals', 'model_name', 'image_order', 'val_inds', 'session_inds', 'all_dat_r2', 'average_image_reps'])"
      ]
     },
     "execution_count": 19,
     "metadata": {},
     "output_type": "execute_result"
    }
   ],
   "source": [
    "fn = '/user_data/mmhender/image_stats_gabor/model_fits/S08/all_coco/Apr-29-2022_1056_57/residuals_all_trials.npy'\n",
    "\n",
    "out = np.load(fn, allow_pickle=True).item()\n",
    "out.keys()"
   ]
  },
  {
   "cell_type": "code",
   "execution_count": 21,
   "id": "b3e9bf28-b85f-44c1-b284-68e45e79e498",
   "metadata": {},
   "outputs": [
    {
     "data": {
      "text/plain": [
       "'all_coco'"
      ]
     },
     "execution_count": 21,
     "metadata": {},
     "output_type": "execute_result"
    }
   ],
   "source": [
    "out['model_name']"
   ]
  },
  {
   "cell_type": "code",
   "execution_count": 14,
   "id": "f052e1ca-a711-4b12-b1fd-1597c527c3dd",
   "metadata": {},
   "outputs": [
    {
     "data": {
      "text/plain": [
       "True"
      ]
     },
     "execution_count": 14,
     "metadata": {},
     "output_type": "execute_result"
    }
   ],
   "source": [
    "out['average_image_reps']"
   ]
  },
  {
   "cell_type": "code",
   "execution_count": 15,
   "id": "f9ea61c0-4dc4-4009-b262-7a17f09d425a",
   "metadata": {},
   "outputs": [
    {
     "data": {
      "text/plain": [
       "['semantic_coco_things_supcateg',\n",
       " 'semantic_coco_things_categ',\n",
       " 'semantic_coco_stuff_supcateg',\n",
       " 'semantic_coco_stuff_categ']"
      ]
     },
     "execution_count": 15,
     "metadata": {},
     "output_type": "execute_result"
    }
   ],
   "source": [
    "out['fitting_types']"
   ]
  },
  {
   "cell_type": "code",
   "execution_count": 2,
   "id": "83544f11-28f0-4a88-9c3b-a9a419f75322",
   "metadata": {},
   "outputs": [
    {
     "data": {
      "text/plain": [
       "'/user_data/mmhender/image_stats_gabor/model_fits'"
      ]
     },
     "execution_count": 2,
     "metadata": {},
     "output_type": "execute_result"
    }
   ],
   "source": [
    "default_paths.save_fits_path"
   ]
  },
  {
   "cell_type": "code",
   "execution_count": 3,
   "id": "cc8b5e36-dcc5-4e18-b839-c6bcef84407b",
   "metadata": {},
   "outputs": [
    {
     "data": {
      "text/plain": [
       "''"
      ]
     },
     "execution_count": 3,
     "metadata": {},
     "output_type": "execute_result"
    }
   ],
   "source": [
    "default_paths.nsd_root"
   ]
  },
  {
   "cell_type": "markdown",
   "id": "cdccef08-13c0-4a7d-b9a8-98b53a6cd3e6",
   "metadata": {
    "tags": []
   },
   "source": [
    "#### Load fit results"
   ]
  },
  {
   "cell_type": "code",
   "execution_count": 4,
   "id": "951aef22-9820-4438-a134-df39328c215e",
   "metadata": {},
   "outputs": [],
   "source": [
    "subjects = np.arange(1,9)\n",
    "n_subjects = len(subjects)\n",
    "\n",
    "feature_type_list_long = ['gabor_solo_ridge_12ori_8sf',\\\n",
    "                          'all_coco', \\\n",
    "                          'gabor_solo_ridge_12ori_8sf_plus_all_coco', \\\n",
    "                          'gabor_solo_ridge_12ori_8sf_from_residuals']\n",
    "\n",
    "feature_type_list = ['gabor','coco', 'combined','gabor fit to coco residuals']\n",
    "\n",
    "n_models = len(feature_type_list)\n",
    "out_list = []\n",
    "for fi, fitting_type in enumerate(feature_type_list_long):\n",
    "\n",
    "    out = [load_fits.load_fit_results(subject=ss, fitting_type=fitting_type, \\\n",
    "                                      n_from_end=0, verbose=False) \\\n",
    "           for ss in subjects]\n",
    "    out_list.append(out)\n",
    "    \n",
    "out = out_list\n",
    "    \n",
    "fig_save_folder=None\n",
    "\n",
    "# create ROI definitions\n",
    "roi_def = roi_utils.multi_subject_roi_def(subjects, remove_ret_overlap=True, \\\n",
    "                                          remove_categ_overlap=True)\n",
    "roi_names =roi_def.roi_names\n",
    "n_rois = roi_def.n_rois"
   ]
  },
  {
   "cell_type": "code",
   "execution_count": 6,
   "id": "4ac0c1d1-8a7d-40d9-ada4-2fc5d16817af",
   "metadata": {},
   "outputs": [
    {
     "data": {
      "text/plain": [
       "'/user_data/mmhender/nsd/rois'"
      ]
     },
     "execution_count": 6,
     "metadata": {},
     "output_type": "execute_result"
    }
   ],
   "source": [
    "default_paths.nsd_rois_root"
   ]
  },
  {
   "cell_type": "markdown",
   "id": "35e4cfbe-5607-49f8-85c4-cbaf74800ed4",
   "metadata": {},
   "source": [
    "#### Plot unique and shared variance"
   ]
  },
  {
   "cell_type": "code",
   "execution_count": 7,
   "id": "e2296995-d094-4db5-ab2f-f6b0c2edc87a",
   "metadata": {},
   "outputs": [],
   "source": [
    "name1 = 'gabor'\n",
    "\n",
    "name2 = 'coco-all'\n",
    "\n",
    "ve_names = ['shared', 'unique: ' + name1, 'unique: ' + name2]\n",
    "\n",
    "gray_color = np.array([[0.6, 0.6, 0.6, 1]])\n",
    "\n",
    "vis_color1 = cm.Purples(np.linspace(0,1,4))[2:3,:]\n",
    "vis_color2 = cm.Blues(np.linspace(0,1,4))[2:3,:]\n",
    "\n",
    "colors = np.concatenate([gray_color, vis_color1, vis_color2], axis=0)"
   ]
  },
  {
   "cell_type": "code",
   "execution_count": 8,
   "id": "e00217ec-abef-4d48-ad9e-a24e5b015652",
   "metadata": {},
   "outputs": [],
   "source": [
    "from utils import stats_utils\n",
    "\n",
    "vals = np.zeros((n_subjects, n_rois, 3))\n",
    "\n",
    "for si, ss in enumerate(subjects):\n",
    "    \n",
    "    r2_full = out[2][si]['val_r2'][:,0]\n",
    "    r2_gab = out[0][si]['val_r2'][:,0]\n",
    "    r2_coco = out[1][si]['val_r2'][:,0]\n",
    "    \n",
    "    var_expl = np.array(stats_utils.get_shared_unique_var(r2_full, r2_gab, r2_coco, \\\n",
    "                                                          convert_to_prop=False)).T\n",
    "    gabor_abvthresh = r2_gab>0.01\n",
    "    nc_abvthresh = summary_plots.get_noise_ceiling(out[0][si])>0.01\n",
    "    inds2use = nc_abvthresh & gabor_abvthresh\n",
    "   \n",
    "    for ri in range(n_rois):\n",
    "        \n",
    "        inds_this_roi = roi_def.ss_roi_defs[si].get_indices(ri) & inds2use \n",
    "        vals[si,ri,:] = np.mean(var_expl[inds_this_roi,:], axis=0)\n",
    "        "
   ]
  },
  {
   "cell_type": "code",
   "execution_count": 9,
   "id": "b9d867b4-12ce-4d83-b0c5-fa90d9343b75",
   "metadata": {},
   "outputs": [
    {
     "data": {
      "image/png": "[encoded data removed]",
      "text/plain": [
       "<Figure size 864x288 with 1 Axes>"
      ]
     },
     "metadata": {
      "needs_background": "light"
     },
     "output_type": "display_data"
    },
    {
     "data": {
      "image/png": "[encoded data removed]",
      "text/plain": [
       "<Figure size 432x288 with 1 Axes>"
      ]
     },
     "metadata": {
      "needs_background": "light"
     },
     "output_type": "display_data"
    }
   ],
   "source": [
    "      \n",
    "mean_vals = np.mean(vals, axis=0)\n",
    "sem_vals = np.std(vals, axis=0) / np.sqrt(n_subjects)\n",
    "\n",
    "plt.rcParams['pdf.fonttype']=42\n",
    "plot_utils.set_all_font_sizes(fs = 16)\n",
    "\n",
    "fh = plot_utils.plot_multi_bars(mean_data=mean_vals, err_data=sem_vals, \\\n",
    "                                point_data = vals, \\\n",
    "                           colors=colors, space=0.1, \\\n",
    "                xticklabels=roi_names, ylabel='Percent var', \\\n",
    "                ylim=[0, 0.16], title='', horizontal_line_pos=None,\\\n",
    "                legend_labels=np.array(ve_names), \\\n",
    "                legend_overlaid=False, legend_separate=True, \\\n",
    "                fig_size=(12,4))\n",
    "\n"
   ]
  },
  {
   "cell_type": "code",
   "execution_count": 41,
   "id": "60e4dd7e-8e1a-4e3e-9583-73540a008141",
   "metadata": {},
   "outputs": [],
   "source": [
    "si=0;\n",
    "\n",
    "r2_full = out[2][si]['val_r2'][:,0]\n",
    "r2_gab = out[0][si]['val_r2'][:,0]\n",
    "r2_coco = out[1][si]['val_r2'][:,0]\n",
    "r2_resid = out[3][si]['val_r2'][:,0]\n",
    "\n",
    "unique_gab = r2_full - r2_coco\n",
    "unique_coco = r2_full - r2_gab"
   ]
  },
  {
   "cell_type": "code",
   "execution_count": 43,
   "id": "c813fb3c-b4c5-49d3-bee5-1fd9048bec92",
   "metadata": {},
   "outputs": [
    {
     "data": {
      "text/plain": [
       "[<matplotlib.lines.Line2D at 0x7fbbb5da85f8>]"
      ]
     },
     "execution_count": 43,
     "metadata": {},
     "output_type": "execute_result"
    },
    {
     "data": {
      "image/png": "[encoded data removed]",
      "text/plain": [
       "<Figure size 432x288 with 1 Axes>"
      ]
     },
     "metadata": {
      "needs_background": "light"
     },
     "output_type": "display_data"
    }
   ],
   "source": [
    "plt.figure()\n",
    "plt.plot(r2_resid, unique_gab,'.')\n",
    "plt.axis('square')\n",
    "lims = [-0.1, 0.4]\n",
    "plt.plot(lims, lims, color='k')"
   ]
  }
 ],
 "metadata": {
  "kernelspec": {
   "display_name": "Python 3 (ipykernel)",
   "language": "python",
   "name": "python3"
  },
  "language_info": {
   "codemirror_mode": {
    "name": "ipython",
    "version": 3
   },
   "file_extension": ".py",
   "mimetype": "text/x-python",
   "name": "python",
   "nbconvert_exporter": "python",
   "pygments_lexer": "ipython3",
   "version": "3.7.1"
  }
 },
 "nbformat": 4,
 "nbformat_minor": 5
}

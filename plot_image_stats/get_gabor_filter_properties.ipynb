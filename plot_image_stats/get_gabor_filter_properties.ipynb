{
 "cells": [
  {
   "cell_type": "code",
   "execution_count": 3,
   "id": "0360829f-a4f3-4a09-9894-6bf4165322f7",
   "metadata": {},
   "outputs": [
    {
     "name": "stdout",
     "output_type": "stream",
     "text": [
      "adding nonlinearity function:\n",
      "<function <lambda> at 0x7ff2ddef79d8>\n"
     ]
    }
   ],
   "source": [
    "from feature_extraction import gabor_feature_extractor\n",
    "\n",
    "nonlin = lambda x: torch.log(1+torch.sqrt(x))\n",
    "n_ori = 12\n",
    "n_sf = 8\n",
    "device = 'cpu:0'\n",
    "\n",
    "_gabor_ext_complex = gabor_feature_extractor.gabor_extractor_multi_scale(n_ori=n_ori, n_sf=n_sf, \\\n",
    "                         sf_range_cyc_per_stim = (3, 72), log_spacing = True, \\\n",
    "                         pix_per_cycle=4.13, cycles_per_radius=0.7, radii_per_filter=4, \\\n",
    "                         complex_cell=True, padding_mode = 'circular', nonlin_fn=nonlin, \\\n",
    "                         RGB=False, device = device)\n"
   ]
  },
  {
   "cell_type": "code",
   "execution_count": 6,
   "id": "00958023-934f-4326-b889-3fce4723ae5a",
   "metadata": {},
   "outputs": [
    {
     "data": {
      "text/plain": [
       "{'pix_per_cycle': 4.13,\n",
       " 'cycles_per_radius': 0.7,\n",
       " 'radii_per_filter': 4,\n",
       " 'cycles_per_filter': 2.8,\n",
       " 'pix_per_filter': 12,\n",
       " 'envelope_radius_pix': 2.8909999999999996}"
      ]
     },
     "execution_count": 6,
     "metadata": {},
     "output_type": "execute_result"
    }
   ],
   "source": [
    "_gabor_ext_complex.gabor_filter_pars\n"
   ]
  },
  {
   "cell_type": "code",
   "execution_count": 7,
   "id": "8727afaa-bd6e-412b-9f49-45a83bf29bf5",
   "metadata": {},
   "outputs": [
    {
     "data": {
      "text/plain": [
       "4.1522491349480966"
      ]
     },
     "execution_count": 7,
     "metadata": {},
     "output_type": "execute_result"
    }
   ],
   "source": [
    "12/2.89"
   ]
  },
  {
   "cell_type": "code",
   "execution_count": 14,
   "id": "8d8fcf3d-5567-4458-a5fb-6bf5ee0b1d8f",
   "metadata": {},
   "outputs": [
    {
     "data": {
      "text/plain": [
       "(0.0, 12.0, 0.0, 12.0)"
      ]
     },
     "execution_count": 14,
     "metadata": {},
     "output_type": "execute_result"
    },
    {
     "data": {
      "image/png": "[encoded data removed]",
      "text/plain": [
       "<Figure size 432x288 with 1 Axes>"
      ]
     },
     "metadata": {
      "needs_background": "light"
     },
     "output_type": "display_data"
    }
   ],
   "source": [
    "import numpy as np\n",
    "\n",
    "filt = np.abs(_gabor_ext_complex.filter_stack[0,0,:,:])\n",
    "\n",
    "import matplotlib.pyplot as plt\n",
    "\n",
    "plt.figure()\n",
    "plt.pcolormesh(filt);\n",
    "plt.axis('square')"
   ]
  },
  {
   "cell_type": "code",
   "execution_count": 15,
   "id": "c84237a9-4329-41f3-a663-f5533baa2f7e",
   "metadata": {},
   "outputs": [
    {
     "data": {
      "text/plain": [
       "[<matplotlib.lines.Line2D at 0x7ff2d8f215c0>]"
      ]
     },
     "execution_count": 15,
     "metadata": {},
     "output_type": "execute_result"
    },
    {
     "data": {
      "image/png": "[encoded data removed]",
      "text/plain": [
       "<Figure size 432x288 with 1 Axes>"
      ]
     },
     "metadata": {
      "needs_background": "light"
     },
     "output_type": "display_data"
    }
   ],
   "source": [
    "plt.figure()\n",
    "plt.plot(filt[6,:])"
   ]
  },
  {
   "cell_type": "code",
   "execution_count": null,
   "id": "aa9ed0e7-f6a9-4178-b634-8c879113a9ef",
   "metadata": {},
   "outputs": [],
   "source": []
  }
 ],
 "metadata": {
  "kernelspec": {
   "display_name": "Python 3",
   "language": "python",
   "name": "python3"
  },
  "language_info": {
   "codemirror_mode": {
    "name": "ipython",
    "version": 3
   },
   "file_extension": ".py",
   "mimetype": "text/x-python",
   "name": "python",
   "nbconvert_exporter": "python",
   "pygments_lexer": "ipython3",
   "version": "3.7.1"
  }
 },
 "nbformat": 4,
 "nbformat_minor": 5
}
